{
 "cells": [
  {
   "cell_type": "code",
   "execution_count": 1,
   "id": "bb3af057-f80e-46dd-a3da-92af4d1ab4f6",
   "metadata": {},
   "outputs": [],
   "source": [
    "import onnx\n",
    "from pathlib import Path\n",
    "from ultralytics import YOLO"
   ]
  },
  {
   "cell_type": "code",
   "execution_count": 6,
   "id": "8cc29ad0-383c-465b-9b57-eb34bc2221c8",
   "metadata": {},
   "outputs": [],
   "source": [
    "URL = \"https://zenodo.org/records/13357337/files/MDV6b-yolov9c.pt?download=1\" \n",
    "MODEL_PATH = \"../animals/triton/models/detector/1/model.onnx\""
   ]
  },
  {
   "cell_type": "code",
   "execution_count": null,
   "id": "1ea6e3d4-e3d3-4468-811e-456ac49600b4",
   "metadata": {},
   "outputs": [
    {
     "name": "stdout",
     "output_type": "stream",
     "text": [
      "Found https://zenodo.org/records/13357337/files/MDV6b-yolov9c.pt locally at /home/don/.pyenv/weights/MDV6b-yolov9c.pt\n",
      "Ultralytics 8.3.28 🚀 Python-3.11.9 torch-2.5.1+cu124 CPU (13th Gen Intel Core(TM) i9-13900H)\n",
      "YOLOv9c summary (fused): 384 layers, 25,321,561 parameters, 0 gradients, 102.3 GFLOPs\n",
      "\n",
      "\u001b[34m\u001b[1mPyTorch:\u001b[0m starting from '/home/don/.pyenv/weights/MDV6b-yolov9c.pt' with input shape (1, 3, 640, 640) BCHW and output shape(s) (1, 7, 8400) (49.2 MB)\n",
      "\n",
      "\u001b[34m\u001b[1mONNX:\u001b[0m starting export with onnx 1.17.0 opset 19...\n",
      "\u001b[34m\u001b[1mONNX:\u001b[0m slimming with onnxslim 0.1.36...\n"
     ]
    }
   ],
   "source": [
    "model = YOLO(URL, verbose=0).to('cpu')\n",
    "\n",
    "onnx_file = model.export(format=\"onnx\", dynamic=True)\n",
    "\n",
    "Path(onnx_file).rename(MODEL_PATH)\n",
    "\n",
    "model = onnx.load(MODEL_PATH)\n",
    "\n",
    "model.ir_version = 8\n",
    "\n",
    "model.opset_import[0].version = 18\n",
    "\n",
    "onnx.save(model, MODEL_PATH)"
   ]
  }
 ],
 "metadata": {
  "kernelspec": {
   "display_name": "Python 3 (ipykernel)",
   "language": "python",
   "name": "python3"
  },
  "language_info": {
   "codemirror_mode": {
    "name": "ipython",
    "version": 3
   },
   "file_extension": ".py",
   "mimetype": "text/x-python",
   "name": "python",
   "nbconvert_exporter": "python",
   "pygments_lexer": "ipython3",
   "version": "3.11.9"
  }
 },
 "nbformat": 4,
 "nbformat_minor": 5
}
