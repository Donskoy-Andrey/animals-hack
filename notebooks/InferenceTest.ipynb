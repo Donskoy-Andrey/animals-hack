{
 "cells": [
  {
   "cell_type": "markdown",
   "id": "6a2dffe5-3166-4b65-af63-4acd898f64a3",
   "metadata": {},
   "source": [
    "# Train"
   ]
  },
  {
   "cell_type": "code",
   "execution_count": 1,
   "id": "c27e9fb6-f65b-412a-bf71-d379361a3cd5",
   "metadata": {},
   "outputs": [],
   "source": [
    "import torch\n",
    "import torchvision"
   ]
  },
  {
   "cell_type": "code",
   "execution_count": 2,
   "id": "4930f987-6ad0-42fb-8037-f0f6e94b6f08",
   "metadata": {},
   "outputs": [
    {
     "name": "stdout",
     "output_type": "stream",
     "text": [
      "Device: cuda:0\n",
      "Devices count: 1\n"
     ]
    }
   ],
   "source": [
    "torch.cuda.empty_cache()\n",
    "#device = \"cpu\"\n",
    "device = \"cuda:0\" if torch.cuda.is_available() else \"cpu\"\n",
    "print(\"Device: \" + device)\n",
    "print(f\"Devices count: {torch.cuda.device_count()}\")"
   ]
  },
  {
   "cell_type": "code",
   "execution_count": 3,
   "id": "2478b79b-f521-4b68-a813-9858e9d8ba79",
   "metadata": {},
   "outputs": [],
   "source": [
    "import pandas\n",
    "import numpy\n",
    "import pickle"
   ]
  },
  {
   "cell_type": "code",
   "execution_count": 4,
   "id": "d756041a-4bf2-48a1-bc93-8f09ffc53aab",
   "metadata": {},
   "outputs": [],
   "source": [
    "from pathlib import Path"
   ]
  },
  {
   "cell_type": "code",
   "execution_count": 5,
   "id": "b23b32d5-db2f-4d00-ac7f-250b325e61d9",
   "metadata": {},
   "outputs": [],
   "source": [
    "from misc.data import DetectorDataset, AnnotationlessDetectorDataset, SimpleClassifierDataset, SupplementaryDataset, concatenate_collate_fn, detection_results_to_annotations"
   ]
  },
  {
   "cell_type": "code",
   "execution_count": 6,
   "id": "87974b8b-d07a-4264-88f2-85c02c112015",
   "metadata": {},
   "outputs": [],
   "source": [
    "from PytorchWildlife.models import detection as pw_detection\n",
    "from PytorchWildlife.models import classification as pw_classification\n",
    "from PytorchWildlife.data import transforms as pw_trans\n",
    "from PytorchWildlife import utils as pw_utils"
   ]
  },
  {
   "cell_type": "code",
   "execution_count": 7,
   "id": "3e0de6c8-40ef-425a-9a51-d5274be0857e",
   "metadata": {},
   "outputs": [],
   "source": [
    "classifier_model_name = \"swin_v2_s\"\n",
    "classifier_weights_name = \"Swin_V2_S_Weights\"\n",
    "classifier_weights_subname = \"IMAGENET1K_V1\""
   ]
  },
  {
   "cell_type": "markdown",
   "id": "c9e9c9a2-dbe8-4742-94dd-267a9c581cad",
   "metadata": {},
   "source": [
    "## Data"
   ]
  },
  {
   "cell_type": "code",
   "execution_count": 8,
   "id": "b989c936-71c8-481b-bd8a-f60d2081d2bd",
   "metadata": {},
   "outputs": [],
   "source": [
    "data_path = Path(\"./data/test_data_minprirodi/\")\n",
    "images_path = data_path / \"images\"\n",
    "annotation_path = data_path / \"annotation.csv\""
   ]
  },
  {
   "cell_type": "code",
   "execution_count": 9,
   "id": "7563505c-8b5f-4827-add4-2329ebda4a0b",
   "metadata": {},
   "outputs": [],
   "source": [
    "model_path = Path(\"./data/train_data_minprirodi/\") / f\"models/{classifier_weights_name}/{classifier_weights_subname}\""
   ]
  },
  {
   "cell_type": "code",
   "execution_count": 10,
   "id": "bab6e742-8447-4cc7-a4f4-df951943dfa0",
   "metadata": {},
   "outputs": [],
   "source": [
    "dataset = AnnotationlessDetectorDataset(images_path)"
   ]
  },
  {
   "cell_type": "markdown",
   "id": "74a564ca-6984-4cbc-9109-bd97e5fb2027",
   "metadata": {},
   "source": [
    "## Model"
   ]
  },
  {
   "cell_type": "code",
   "execution_count": 11,
   "id": "18c82811-71c5-4ddf-985a-8da34209c416",
   "metadata": {},
   "outputs": [
    {
     "name": "stdout",
     "output_type": "stream",
     "text": [
      "Ultralytics 8.3.28 🚀 Python-3.10.12 torch-2.5.1+cu124 CUDA:0 (Tesla V100-SXM3-32GB, 32494MiB)\n",
      "YOLOv9c summary (fused): 384 layers, 25,321,561 parameters, 0 gradients, 102.3 GFLOPs\n"
     ]
    }
   ],
   "source": [
    "detection_model = pw_detection.MegaDetectorV6(device=device, pretrained=True)"
   ]
  },
  {
   "cell_type": "raw",
   "id": "9d563a15-099e-4e72-968b-0c498897e223",
   "metadata": {
    "scrolled": true
   },
   "source": [
    "results = detection_model.batch_image_detection(images_path)"
   ]
  },
  {
   "cell_type": "raw",
   "id": "65f34e79-761b-4716-ba2a-8a01c83e23bb",
   "metadata": {},
   "source": [
    "with open(data_path / \"detection_results.dat\", 'wb') as file:\n",
    "    pickle.dump(results, file)"
   ]
  },
  {
   "cell_type": "raw",
   "id": "85b2ec6a-98a0-4e8c-a1bf-23fe50df6182",
   "metadata": {},
   "source": [
    "with open(data_path / \"detection_results.dat\", 'rb') as file:\n",
    "    results = pickle.load(file)"
   ]
  },
  {
   "cell_type": "raw",
   "id": "4f2e6134-60f7-4c98-b2ee-97152cf59abd",
   "metadata": {},
   "source": [
    "annotations_pred = detection_results_to_annotations(results)"
   ]
  },
  {
   "cell_type": "code",
   "execution_count": 14,
   "id": "7fe06f82-2acc-4f01-a039-d3edb8c03c40",
   "metadata": {},
   "outputs": [],
   "source": [
    "annotations_pred = pandas.read_csv(data_path / \"annotations_pred.csv\")"
   ]
  },
  {
   "cell_type": "code",
   "execution_count": 15,
   "id": "e727b9a2-ebe2-4773-8b24-46145f7d69c0",
   "metadata": {},
   "outputs": [
    {
     "data": {
      "text/html": [
       "<div>\n",
       "<style scoped>\n",
       "    .dataframe tbody tr th:only-of-type {\n",
       "        vertical-align: middle;\n",
       "    }\n",
       "\n",
       "    .dataframe tbody tr th {\n",
       "        vertical-align: top;\n",
       "    }\n",
       "\n",
       "    .dataframe thead th {\n",
       "        text-align: right;\n",
       "    }\n",
       "</style>\n",
       "<table border=\"1\" class=\"dataframe\">\n",
       "  <thead>\n",
       "    <tr style=\"text-align: right;\">\n",
       "      <th></th>\n",
       "      <th>Name</th>\n",
       "      <th>Bbox</th>\n",
       "      <th>xyxy_normalized_coords</th>\n",
       "      <th>label</th>\n",
       "      <th>confidence</th>\n",
       "    </tr>\n",
       "  </thead>\n",
       "  <tbody>\n",
       "    <tr>\n",
       "      <th>0</th>\n",
       "      <td>3000160.jpg</td>\n",
       "      <td>0.06437474489212036, 0.6150065660476685, 0.032...</td>\n",
       "      <td>[   0.047978     0.60507    0.080771     0.62494]</td>\n",
       "      <td>0</td>\n",
       "      <td>0.215246</td>\n",
       "    </tr>\n",
       "    <tr>\n",
       "      <th>1</th>\n",
       "      <td>3000723.jpg</td>\n",
       "      <td>0.5633390545845032, 0.6898795366287231, 0.8733...</td>\n",
       "      <td>[    0.12668     0.43802           1     0.94173]</td>\n",
       "      <td>0</td>\n",
       "      <td>0.952901</td>\n",
       "    </tr>\n",
       "    <tr>\n",
       "      <th>2</th>\n",
       "      <td>3001267.jpg</td>\n",
       "      <td>0.9469287991523743, 0.5806889533996582, 0.1046...</td>\n",
       "      <td>[    0.89462     0.55519     0.99924     0.60619]</td>\n",
       "      <td>0</td>\n",
       "      <td>0.499477</td>\n",
       "    </tr>\n",
       "    <tr>\n",
       "      <th>3</th>\n",
       "      <td>3001689.jpg</td>\n",
       "      <td>0.5274641513824463, 0.6682726740837097, 0.6450...</td>\n",
       "      <td>[    0.20495     0.49549     0.84998     0.84105]</td>\n",
       "      <td>0</td>\n",
       "      <td>0.921705</td>\n",
       "    </tr>\n",
       "    <tr>\n",
       "      <th>4</th>\n",
       "      <td>3003898.jpg</td>\n",
       "      <td>0.3841886520385742, 0.604388952255249, 0.21015...</td>\n",
       "      <td>[    0.27911     0.48503     0.48926     0.72375]</td>\n",
       "      <td>0</td>\n",
       "      <td>0.945228</td>\n",
       "    </tr>\n",
       "    <tr>\n",
       "      <th>...</th>\n",
       "      <td>...</td>\n",
       "      <td>...</td>\n",
       "      <td>...</td>\n",
       "      <td>...</td>\n",
       "      <td>...</td>\n",
       "    </tr>\n",
       "    <tr>\n",
       "      <th>1542</th>\n",
       "      <td>3999483.jpg</td>\n",
       "      <td>0.315591037273407, 0.6522321105003357, 0.39442...</td>\n",
       "      <td>[    0.11838     0.30512      0.5128     0.99934]</td>\n",
       "      <td>0</td>\n",
       "      <td>0.972877</td>\n",
       "    </tr>\n",
       "    <tr>\n",
       "      <th>1543</th>\n",
       "      <td>3999817.jpg</td>\n",
       "      <td>0.5, 0.7559560537338257, 1.0, 0.3814053535461426</td>\n",
       "      <td>[          0     0.56525           1     0.94666]</td>\n",
       "      <td>0</td>\n",
       "      <td>0.593780</td>\n",
       "    </tr>\n",
       "    <tr>\n",
       "      <th>1544</th>\n",
       "      <td>3999887.jpg</td>\n",
       "      <td>0.435708224773407, 0.7554147243499756, 0.59468...</td>\n",
       "      <td>[    0.13837     0.67448     0.73305     0.83635]</td>\n",
       "      <td>0</td>\n",
       "      <td>0.831750</td>\n",
       "    </tr>\n",
       "    <tr>\n",
       "      <th>1545</th>\n",
       "      <td>3999887.jpg</td>\n",
       "      <td>0.047514598816633224, 0.6751159429550171, 0.09...</td>\n",
       "      <td>[          0     0.58704    0.095029      0.7632]</td>\n",
       "      <td>0</td>\n",
       "      <td>0.602150</td>\n",
       "    </tr>\n",
       "    <tr>\n",
       "      <th>1546</th>\n",
       "      <td>3999887.jpg</td>\n",
       "      <td>0.4018988013267517, 0.6502289772033691, 0.0926...</td>\n",
       "      <td>[    0.35559     0.60859      0.4482     0.69186]</td>\n",
       "      <td>0</td>\n",
       "      <td>0.360176</td>\n",
       "    </tr>\n",
       "  </tbody>\n",
       "</table>\n",
       "<p>1547 rows × 5 columns</p>\n",
       "</div>"
      ],
      "text/plain": [
       "             Name                                               Bbox  \\\n",
       "0     3000160.jpg  0.06437474489212036, 0.6150065660476685, 0.032...   \n",
       "1     3000723.jpg  0.5633390545845032, 0.6898795366287231, 0.8733...   \n",
       "2     3001267.jpg  0.9469287991523743, 0.5806889533996582, 0.1046...   \n",
       "3     3001689.jpg  0.5274641513824463, 0.6682726740837097, 0.6450...   \n",
       "4     3003898.jpg  0.3841886520385742, 0.604388952255249, 0.21015...   \n",
       "...           ...                                                ...   \n",
       "1542  3999483.jpg  0.315591037273407, 0.6522321105003357, 0.39442...   \n",
       "1543  3999817.jpg   0.5, 0.7559560537338257, 1.0, 0.3814053535461426   \n",
       "1544  3999887.jpg  0.435708224773407, 0.7554147243499756, 0.59468...   \n",
       "1545  3999887.jpg  0.047514598816633224, 0.6751159429550171, 0.09...   \n",
       "1546  3999887.jpg  0.4018988013267517, 0.6502289772033691, 0.0926...   \n",
       "\n",
       "                                 xyxy_normalized_coords  label  confidence  \n",
       "0     [   0.047978     0.60507    0.080771     0.62494]      0    0.215246  \n",
       "1     [    0.12668     0.43802           1     0.94173]      0    0.952901  \n",
       "2     [    0.89462     0.55519     0.99924     0.60619]      0    0.499477  \n",
       "3     [    0.20495     0.49549     0.84998     0.84105]      0    0.921705  \n",
       "4     [    0.27911     0.48503     0.48926     0.72375]      0    0.945228  \n",
       "...                                                 ...    ...         ...  \n",
       "1542  [    0.11838     0.30512      0.5128     0.99934]      0    0.972877  \n",
       "1543  [          0     0.56525           1     0.94666]      0    0.593780  \n",
       "1544  [    0.13837     0.67448     0.73305     0.83635]      0    0.831750  \n",
       "1545  [          0     0.58704    0.095029      0.7632]      0    0.602150  \n",
       "1546  [    0.35559     0.60859      0.4482     0.69186]      0    0.360176  \n",
       "\n",
       "[1547 rows x 5 columns]"
      ]
     },
     "execution_count": 15,
     "metadata": {},
     "output_type": "execute_result"
    }
   ],
   "source": [
    "annotations_pred"
   ]
  },
  {
   "cell_type": "raw",
   "id": "f7989fde-00f8-46a7-b333-5bfa551ac326",
   "metadata": {},
   "source": [
    "annotations_pred.to_csv(data_path / \"annotations_pred.csv\", index=False)"
   ]
  },
  {
   "cell_type": "code",
   "execution_count": 16,
   "id": "82a0f303-f442-464a-beb3-6e880fc88838",
   "metadata": {},
   "outputs": [],
   "source": [
    "annotations_pred[\"Class\"] = numpy.zeros(len(annotations_pred))\n",
    "#annotations_pred[\"Class\"] = annotation[\"Class\"]"
   ]
  },
  {
   "cell_type": "code",
   "execution_count": 17,
   "id": "346e0a27-9bb5-4258-8862-f58346e31125",
   "metadata": {},
   "outputs": [],
   "source": [
    "dataset = SimpleClassifierDataset(\n",
    "    images_path,\n",
    "    annotations_pred,\n",
    "    torchvision.transforms.Resize((232, 232), interpolation=torchvision.transforms.InterpolationMode.BICUBIC),\n",
    ")"
   ]
  },
  {
   "cell_type": "code",
   "execution_count": 18,
   "id": "3ee21908-aae9-4347-9f09-a1a51ed56290",
   "metadata": {},
   "outputs": [],
   "source": [
    "batch_size = 128"
   ]
  },
  {
   "cell_type": "code",
   "execution_count": 19,
   "id": "6ef0ded5-d1ec-478c-b2e0-0440274e5623",
   "metadata": {},
   "outputs": [],
   "source": [
    "dataloader = torch.utils.data.DataLoader(dataset, batch_size=batch_size, shuffle=False)"
   ]
  },
  {
   "cell_type": "code",
   "execution_count": 20,
   "id": "86a6843e-5424-44f3-ac97-b507ee7c7cde",
   "metadata": {},
   "outputs": [],
   "source": [
    "model = torch.load(model_path / \"e8_0.98.pt\")\n",
    "#model = torch.load(model_path / \"e17_1.00.pt\")"
   ]
  },
  {
   "cell_type": "code",
   "execution_count": 21,
   "id": "c8b80348-f1d9-463d-9be3-0844b1c7e837",
   "metadata": {},
   "outputs": [
    {
     "name": "stderr",
     "output_type": "stream",
     "text": [
      "100%|█████████████████████████████████████████████████████████████████████████████████████████████████████████████████████████████████████████████████████████| 13/13 [02:58<00:00, 13.74s/it]\n"
     ]
    }
   ],
   "source": [
    "_, y_pred = model.predict(dataloader, device)"
   ]
  },
  {
   "cell_type": "code",
   "execution_count": 22,
   "id": "e99e38ba-dbee-4454-908e-bfdbc4c93ee0",
   "metadata": {},
   "outputs": [],
   "source": [
    "test_annotations_pred = annotations_pred.copy()\n",
    "test_annotations_pred[\"Class\"] = 1 * (numpy.exp(y_pred[:,1]) > 0.3)"
   ]
  },
  {
   "cell_type": "code",
   "execution_count": 23,
   "id": "4ec4772b-e522-4e2f-9504-cd6a7185767e",
   "metadata": {},
   "outputs": [
    {
     "data": {
      "text/html": [
       "<div>\n",
       "<style scoped>\n",
       "    .dataframe tbody tr th:only-of-type {\n",
       "        vertical-align: middle;\n",
       "    }\n",
       "\n",
       "    .dataframe tbody tr th {\n",
       "        vertical-align: top;\n",
       "    }\n",
       "\n",
       "    .dataframe thead th {\n",
       "        text-align: right;\n",
       "    }\n",
       "</style>\n",
       "<table border=\"1\" class=\"dataframe\">\n",
       "  <thead>\n",
       "    <tr style=\"text-align: right;\">\n",
       "      <th></th>\n",
       "      <th>Name</th>\n",
       "      <th>Bbox</th>\n",
       "      <th>xyxy_normalized_coords</th>\n",
       "      <th>label</th>\n",
       "      <th>confidence</th>\n",
       "      <th>Class</th>\n",
       "    </tr>\n",
       "  </thead>\n",
       "  <tbody>\n",
       "    <tr>\n",
       "      <th>0</th>\n",
       "      <td>3000160.jpg</td>\n",
       "      <td>0.06437474489212036, 0.6150065660476685, 0.032...</td>\n",
       "      <td>[   0.047978     0.60507    0.080771     0.62494]</td>\n",
       "      <td>0</td>\n",
       "      <td>0.215246</td>\n",
       "      <td>0</td>\n",
       "    </tr>\n",
       "    <tr>\n",
       "      <th>1</th>\n",
       "      <td>3000723.jpg</td>\n",
       "      <td>0.5633390545845032, 0.6898795366287231, 0.8733...</td>\n",
       "      <td>[    0.12668     0.43802           1     0.94173]</td>\n",
       "      <td>0</td>\n",
       "      <td>0.952901</td>\n",
       "      <td>1</td>\n",
       "    </tr>\n",
       "    <tr>\n",
       "      <th>2</th>\n",
       "      <td>3001267.jpg</td>\n",
       "      <td>0.9469287991523743, 0.5806889533996582, 0.1046...</td>\n",
       "      <td>[    0.89462     0.55519     0.99924     0.60619]</td>\n",
       "      <td>0</td>\n",
       "      <td>0.499477</td>\n",
       "      <td>0</td>\n",
       "    </tr>\n",
       "    <tr>\n",
       "      <th>3</th>\n",
       "      <td>3001689.jpg</td>\n",
       "      <td>0.5274641513824463, 0.6682726740837097, 0.6450...</td>\n",
       "      <td>[    0.20495     0.49549     0.84998     0.84105]</td>\n",
       "      <td>0</td>\n",
       "      <td>0.921705</td>\n",
       "      <td>0</td>\n",
       "    </tr>\n",
       "    <tr>\n",
       "      <th>4</th>\n",
       "      <td>3003898.jpg</td>\n",
       "      <td>0.3841886520385742, 0.604388952255249, 0.21015...</td>\n",
       "      <td>[    0.27911     0.48503     0.48926     0.72375]</td>\n",
       "      <td>0</td>\n",
       "      <td>0.945228</td>\n",
       "      <td>1</td>\n",
       "    </tr>\n",
       "    <tr>\n",
       "      <th>...</th>\n",
       "      <td>...</td>\n",
       "      <td>...</td>\n",
       "      <td>...</td>\n",
       "      <td>...</td>\n",
       "      <td>...</td>\n",
       "      <td>...</td>\n",
       "    </tr>\n",
       "    <tr>\n",
       "      <th>1542</th>\n",
       "      <td>3999483.jpg</td>\n",
       "      <td>0.315591037273407, 0.6522321105003357, 0.39442...</td>\n",
       "      <td>[    0.11838     0.30512      0.5128     0.99934]</td>\n",
       "      <td>0</td>\n",
       "      <td>0.972877</td>\n",
       "      <td>1</td>\n",
       "    </tr>\n",
       "    <tr>\n",
       "      <th>1543</th>\n",
       "      <td>3999817.jpg</td>\n",
       "      <td>0.5, 0.7559560537338257, 1.0, 0.3814053535461426</td>\n",
       "      <td>[          0     0.56525           1     0.94666]</td>\n",
       "      <td>0</td>\n",
       "      <td>0.593780</td>\n",
       "      <td>0</td>\n",
       "    </tr>\n",
       "    <tr>\n",
       "      <th>1544</th>\n",
       "      <td>3999887.jpg</td>\n",
       "      <td>0.435708224773407, 0.7554147243499756, 0.59468...</td>\n",
       "      <td>[    0.13837     0.67448     0.73305     0.83635]</td>\n",
       "      <td>0</td>\n",
       "      <td>0.831750</td>\n",
       "      <td>0</td>\n",
       "    </tr>\n",
       "    <tr>\n",
       "      <th>1545</th>\n",
       "      <td>3999887.jpg</td>\n",
       "      <td>0.047514598816633224, 0.6751159429550171, 0.09...</td>\n",
       "      <td>[          0     0.58704    0.095029      0.7632]</td>\n",
       "      <td>0</td>\n",
       "      <td>0.602150</td>\n",
       "      <td>0</td>\n",
       "    </tr>\n",
       "    <tr>\n",
       "      <th>1546</th>\n",
       "      <td>3999887.jpg</td>\n",
       "      <td>0.4018988013267517, 0.6502289772033691, 0.0926...</td>\n",
       "      <td>[    0.35559     0.60859      0.4482     0.69186]</td>\n",
       "      <td>0</td>\n",
       "      <td>0.360176</td>\n",
       "      <td>0</td>\n",
       "    </tr>\n",
       "  </tbody>\n",
       "</table>\n",
       "<p>1547 rows × 6 columns</p>\n",
       "</div>"
      ],
      "text/plain": [
       "             Name                                               Bbox  \\\n",
       "0     3000160.jpg  0.06437474489212036, 0.6150065660476685, 0.032...   \n",
       "1     3000723.jpg  0.5633390545845032, 0.6898795366287231, 0.8733...   \n",
       "2     3001267.jpg  0.9469287991523743, 0.5806889533996582, 0.1046...   \n",
       "3     3001689.jpg  0.5274641513824463, 0.6682726740837097, 0.6450...   \n",
       "4     3003898.jpg  0.3841886520385742, 0.604388952255249, 0.21015...   \n",
       "...           ...                                                ...   \n",
       "1542  3999483.jpg  0.315591037273407, 0.6522321105003357, 0.39442...   \n",
       "1543  3999817.jpg   0.5, 0.7559560537338257, 1.0, 0.3814053535461426   \n",
       "1544  3999887.jpg  0.435708224773407, 0.7554147243499756, 0.59468...   \n",
       "1545  3999887.jpg  0.047514598816633224, 0.6751159429550171, 0.09...   \n",
       "1546  3999887.jpg  0.4018988013267517, 0.6502289772033691, 0.0926...   \n",
       "\n",
       "                                 xyxy_normalized_coords  label  confidence  \\\n",
       "0     [   0.047978     0.60507    0.080771     0.62494]      0    0.215246   \n",
       "1     [    0.12668     0.43802           1     0.94173]      0    0.952901   \n",
       "2     [    0.89462     0.55519     0.99924     0.60619]      0    0.499477   \n",
       "3     [    0.20495     0.49549     0.84998     0.84105]      0    0.921705   \n",
       "4     [    0.27911     0.48503     0.48926     0.72375]      0    0.945228   \n",
       "...                                                 ...    ...         ...   \n",
       "1542  [    0.11838     0.30512      0.5128     0.99934]      0    0.972877   \n",
       "1543  [          0     0.56525           1     0.94666]      0    0.593780   \n",
       "1544  [    0.13837     0.67448     0.73305     0.83635]      0    0.831750   \n",
       "1545  [          0     0.58704    0.095029      0.7632]      0    0.602150   \n",
       "1546  [    0.35559     0.60859      0.4482     0.69186]      0    0.360176   \n",
       "\n",
       "      Class  \n",
       "0         0  \n",
       "1         1  \n",
       "2         0  \n",
       "3         0  \n",
       "4         1  \n",
       "...     ...  \n",
       "1542      1  \n",
       "1543      0  \n",
       "1544      0  \n",
       "1545      0  \n",
       "1546      0  \n",
       "\n",
       "[1547 rows x 6 columns]"
      ]
     },
     "execution_count": 23,
     "metadata": {},
     "output_type": "execute_result"
    }
   ],
   "source": [
    "test_annotations_pred"
   ]
  },
  {
   "cell_type": "code",
   "execution_count": 24,
   "id": "2b4e62e6-9936-4263-bab8-3fc4264e479c",
   "metadata": {},
   "outputs": [],
   "source": [
    "from datetime import datetime"
   ]
  },
  {
   "cell_type": "code",
   "execution_count": 25,
   "id": "235b20b3-a5a6-4cb1-bc23-c285684b38d6",
   "metadata": {},
   "outputs": [],
   "source": [
    "test_annotations_pred[[\"Name\", \"Bbox\", \"Class\"]].to_csv(data_path / f\"submission_{datetime.now().strftime('%Y-%m-%d_%H:%M:%S.%f')}.csv\", index=False)"
   ]
  },
  {
   "cell_type": "code",
   "execution_count": null,
   "id": "ee4ea430-f847-4215-a8b3-046987874533",
   "metadata": {},
   "outputs": [],
   "source": []
  }
 ],
 "metadata": {
  "kernelspec": {
   "display_name": "Python 3 (ipykernel)",
   "language": "python",
   "name": "python3"
  },
  "language_info": {
   "codemirror_mode": {
    "name": "ipython",
    "version": 3
   },
   "file_extension": ".py",
   "mimetype": "text/x-python",
   "name": "python",
   "nbconvert_exporter": "python",
   "pygments_lexer": "ipython3",
   "version": "3.10.12"
  }
 },
 "nbformat": 4,
 "nbformat_minor": 5
}
