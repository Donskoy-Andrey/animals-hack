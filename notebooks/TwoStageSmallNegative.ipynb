{
 "cells": [
  {
   "cell_type": "markdown",
   "id": "597a5ee5-e052-48ac-8ed0-12cca33f2e2c",
   "metadata": {},
   "source": [
    "# Two-stage solution"
   ]
  },
  {
   "cell_type": "code",
   "execution_count": null,
   "id": "5facdf3c-52e9-4f9d-a353-bc12f28cd3da",
   "metadata": {},
   "outputs": [],
   "source": [
    "import torch\n",
    "import torchvision"
   ]
  },
  {
   "cell_type": "code",
   "execution_count": null,
   "id": "e2e55ac6-9848-4488-b86b-e2dfd3f3173f",
   "metadata": {},
   "outputs": [],
   "source": [
    "torch.cuda.empty_cache()\n",
    "#device = \"cpu\"\n",
    "device = \"cuda:0\" if torch.cuda.is_available() else \"cpu\"\n",
    "print(\"Device: \" + device)\n",
    "print(f\"Devices count: {torch.cuda.device_count()}\")"
   ]
  },
  {
   "cell_type": "code",
   "execution_count": null,
   "id": "d05f36bc-37f2-4c84-b6b3-b06b97a0fcbf",
   "metadata": {},
   "outputs": [],
   "source": [
    "import pandas\n",
    "import numpy\n",
    "import pickle"
   ]
  },
  {
   "cell_type": "code",
   "execution_count": null,
   "id": "7554816d-187d-484e-9f23-778c34b1a3da",
   "metadata": {},
   "outputs": [],
   "source": [
    "from pathlib import Path"
   ]
  },
  {
   "cell_type": "code",
   "execution_count": null,
   "id": "9e591af7-a445-4c26-b2d9-1c60d9006344",
   "metadata": {},
   "outputs": [],
   "source": [
    "from misc.data import SimpleClassifierDataset, SupplementaryDataset, concatenate_collate_fn, detection_results_to_annotations"
   ]
  },
  {
   "cell_type": "code",
   "execution_count": null,
   "id": "372aa445-0ec8-4d11-a826-983cb8c9aecb",
   "metadata": {},
   "outputs": [],
   "source": [
    "from PytorchWildlife.models import detection as pw_detection\n",
    "from PytorchWildlife.models import classification as pw_classification\n",
    "from PytorchWildlife.data import transforms as pw_trans\n",
    "from PytorchWildlife import utils as pw_utils"
   ]
  },
  {
   "cell_type": "code",
   "execution_count": null,
   "id": "c5e0a65f-a2c6-4163-b02f-e50030331441",
   "metadata": {},
   "outputs": [],
   "source": [
    "classifier_model_name = \"swin_v2_s\"\n",
    "classifier_weights_name = \"Swin_V2_S_Weights\"\n",
    "classifier_weights_subname = \"IMAGENET1K_V1\""
   ]
  },
  {
   "cell_type": "code",
   "execution_count": null,
   "id": "45674e79-d862-4888-a4c4-8dbe78991be9",
   "metadata": {},
   "outputs": [],
   "source": [
    "image_size = 232"
   ]
  },
  {
   "cell_type": "markdown",
   "id": "db25e40b-d10c-462f-b8d0-c7a51ff3048a",
   "metadata": {},
   "source": [
    "## Data"
   ]
  },
  {
   "cell_type": "code",
   "execution_count": null,
   "id": "fd233722-a335-43c4-91db-e45e4c011f95",
   "metadata": {},
   "outputs": [],
   "source": [
    "data_path = Path(\"./data/train_data_minprirodi/\")\n",
    "images_path = data_path / \"images\"\n",
    "annotation_path = data_path / \"annotation.csv\""
   ]
  },
  {
   "cell_type": "code",
   "execution_count": null,
   "id": "85d3e461-e01e-488b-b767-7bea877721a6",
   "metadata": {},
   "outputs": [],
   "source": [
    "model_path = data_path / f\"models/{classifier_weights_name}/{classifier_weights_subname}\""
   ]
  },
  {
   "cell_type": "code",
   "execution_count": null,
   "id": "845f4fa6-8058-46c0-9623-2a1fdab5f284",
   "metadata": {},
   "outputs": [],
   "source": [
    "annotation = pandas.read_csv(annotation_path)\n",
    "annotation"
   ]
  },
  {
   "cell_type": "raw",
   "id": "b914de79-2c9e-433c-a276-9707d1e0b7ca",
   "metadata": {},
   "source": [
    "annotation = annotation.head(200)"
   ]
  },
  {
   "cell_type": "code",
   "execution_count": null,
   "id": "0502b776-59cc-4ce4-92b2-8365f824c248",
   "metadata": {},
   "outputs": [],
   "source": [
    "dataset = SimpleClassifierDataset(\n",
    "    images_path,\n",
    "    annotation,\n",
    "    torchvision.transforms.Resize((image_size, image_size), interpolation=torchvision.transforms.InterpolationMode.BICUBIC),\n",
    ")"
   ]
  },
  {
   "cell_type": "code",
   "execution_count": null,
   "id": "257eaa1a-abb6-4476-9542-d4a331cfc53b",
   "metadata": {},
   "outputs": [],
   "source": [
    "%matplotlib inline\n",
    "import matplotlib.pyplot as plt\n",
    "\n",
    "plt.imshow(dataset[53][0].cpu().detach().numpy().swapaxes(0,2).swapaxes(1,0))\n",
    "plt.show();"
   ]
  },
  {
   "cell_type": "code",
   "execution_count": null,
   "id": "3def359a-aa78-4cac-9ea3-4dcdd43e0ab1",
   "metadata": {},
   "outputs": [],
   "source": [
    "from sklearn.model_selection import train_test_split\n",
    "\n",
    "unique_names = annotation[\"Name\"].unique()\n",
    "train_names, test_names = train_test_split(unique_names, test_size=0.2, random_state=42)"
   ]
  },
  {
   "cell_type": "code",
   "execution_count": null,
   "id": "500dd17b-291b-4c47-90b3-afd573f555a4",
   "metadata": {},
   "outputs": [],
   "source": [
    "train_annotation = annotation[annotation[\"Name\"].isin(train_names)].reset_index(drop=True)\n",
    "test_annotation  = annotation[annotation[\"Name\"].isin(test_names)].reset_index(drop=True)"
   ]
  },
  {
   "cell_type": "code",
   "execution_count": null,
   "id": "75d0192a-fb56-423f-b7cd-44a47b46faf8",
   "metadata": {},
   "outputs": [],
   "source": [
    "train_dataset = SimpleClassifierDataset(images_path, train_annotation, dataset.transform)\n",
    "test_dataset  = SimpleClassifierDataset(images_path, test_annotation, dataset.transform)"
   ]
  },
  {
   "cell_type": "code",
   "execution_count": null,
   "id": "3ee21908-aae9-4347-9f09-a1a51ed56290",
   "metadata": {},
   "outputs": [],
   "source": [
    "train_batch_size = 24\n",
    "test_batch_size  = 128"
   ]
  },
  {
   "cell_type": "code",
   "execution_count": null,
   "id": "6ef0ded5-d1ec-478c-b2e0-0440274e5623",
   "metadata": {},
   "outputs": [],
   "source": [
    "train_dataloader = torch.utils.data.DataLoader(train_dataset, batch_size=train_batch_size, shuffle=True)\n",
    "test_dataloader  = torch.utils.data.DataLoader(test_dataset,  batch_size=test_batch_size,  shuffle=False)"
   ]
  },
  {
   "cell_type": "markdown",
   "id": "80f27188-c861-474c-80f8-be65c3e6317a",
   "metadata": {},
   "source": [
    "### Negative datasets"
   ]
  },
  {
   "cell_type": "code",
   "execution_count": null,
   "id": "a84a381b-c389-4675-ad19-7f4156a4b15e",
   "metadata": {},
   "outputs": [],
   "source": [
    "empty_path = data_path / \"images_empty\"\n",
    "all_path   = data_path / \"images\""
   ]
  },
  {
   "cell_type": "code",
   "execution_count": null,
   "id": "26c48c29-d579-4997-9849-f9cfe95b3e62",
   "metadata": {},
   "outputs": [],
   "source": [
    "empty_dataset = SupplementaryDataset(\n",
    "    empty_path,\n",
    "    torchvision.transforms.Resize((image_size, image_size), interpolation=torchvision.transforms.InterpolationMode.BICUBIC)\n",
    ")\n",
    "\n",
    "all_dataset = SupplementaryDataset(\n",
    "    all_path,\n",
    "    torchvision.transforms.Resize((image_size, image_size), interpolation=torchvision.transforms.InterpolationMode.BICUBIC)\n",
    ")"
   ]
  },
  {
   "cell_type": "code",
   "execution_count": null,
   "id": "3b26124d-f565-464f-bd5f-e2b0ff4f34e0",
   "metadata": {},
   "outputs": [],
   "source": [
    "%matplotlib inline\n",
    "import matplotlib.pyplot as plt\n",
    "\n",
    "plt.imshow(empty_dataset[53][0].cpu().detach().numpy().swapaxes(0,2).swapaxes(1,0))\n",
    "plt.show();"
   ]
  },
  {
   "cell_type": "code",
   "execution_count": null,
   "id": "9dd2f840-6ddc-422d-aab0-870b1e98b8b9",
   "metadata": {},
   "outputs": [],
   "source": [
    "%matplotlib inline\n",
    "import matplotlib.pyplot as plt\n",
    "\n",
    "plt.imshow(all_dataset[53][0].cpu().detach().numpy().swapaxes(0,2).swapaxes(1,0))\n",
    "plt.show();"
   ]
  },
  {
   "cell_type": "code",
   "execution_count": null,
   "id": "be4c2fe7-b9d3-4414-b544-0932a8ed35e5",
   "metadata": {},
   "outputs": [],
   "source": [
    "empty_dataloader = torch.utils.data.DataLoader(empty_dataset, batch_size=train_batch_size, shuffle=True)\n",
    "all_dataloader   = torch.utils.data.DataLoader(all_dataset,   batch_size=train_batch_size, shuffle=True)"
   ]
  },
  {
   "cell_type": "markdown",
   "id": "d8b47eba-e5af-4299-aee5-b080203fe96b",
   "metadata": {},
   "source": [
    "## Model"
   ]
  },
  {
   "cell_type": "code",
   "execution_count": null,
   "id": "6f4ff20c-e1d8-4bcb-9fbf-1821304106b6",
   "metadata": {},
   "outputs": [],
   "source": [
    "from misc.train import *"
   ]
  },
  {
   "cell_type": "raw",
   "id": "0c6921cc-2347-4b00-9d6a-908c80cf131a",
   "metadata": {},
   "source": [
    "detector = pw_detection.MegaDetectorV6(device='cuda:0', pretrained=True)"
   ]
  },
  {
   "cell_type": "code",
   "execution_count": null,
   "id": "38c83bd7-5627-417b-9c4b-da90ebe495ae",
   "metadata": {},
   "outputs": [],
   "source": [
    "weights = getattr(getattr(torchvision.models, classifier_weights_name), classifier_weights_subname)"
   ]
  },
  {
   "cell_type": "code",
   "execution_count": null,
   "id": "d8833961-c184-4fff-8d6e-783887f20f7b",
   "metadata": {},
   "outputs": [],
   "source": [
    "classifier = getattr(torchvision.models, classifier_model_name)(weights=weights).to(device)"
   ]
  },
  {
   "cell_type": "code",
   "execution_count": null,
   "id": "fb694d4e-e487-407a-ac45-46ab40de04c6",
   "metadata": {},
   "outputs": [],
   "source": [
    "model = Classifier(\n",
    "    #detector,\n",
    "    classifier.train(),\n",
    "    ClassifierHead(1000),\n",
    "    weights.transforms()\n",
    ").to(device)"
   ]
  },
  {
   "cell_type": "code",
   "execution_count": null,
   "id": "6d62cd3e-eecb-4b98-bb2f-c1bcc5edbecc",
   "metadata": {},
   "outputs": [],
   "source": [
    "history = train_detector_classifier(\n",
    "    model,\n",
    "    train_dataloader,\n",
    "    test_dataloader,\n",
    "    torch.optim.Adam(model.parameters(), lr=5.0e-5),\n",
    "    device,\n",
    "    negative_dataloaders=[\n",
    "        #empty_dataloader,\n",
    "        all_dataloader,\n",
    "    ],\n",
    "    model_path=model_path,\n",
    "    n_epochs=20\n",
    ")"
   ]
  },
  {
   "cell_type": "code",
   "execution_count": null,
   "id": "c5e0d28f-cbe5-4ba6-b60c-860991886c19",
   "metadata": {},
   "outputs": [],
   "source": [
    "history"
   ]
  },
  {
   "cell_type": "code",
   "execution_count": null,
   "id": "7e891b60-5d76-4655-9e47-c0257b46151b",
   "metadata": {},
   "outputs": [],
   "source": []
  }
 ],
 "metadata": {
  "kernelspec": {
   "display_name": "Python 3 (ipykernel)",
   "language": "python",
   "name": "python3"
  },
  "language_info": {
   "codemirror_mode": {
    "name": "ipython",
    "version": 3
   },
   "file_extension": ".py",
   "mimetype": "text/x-python",
   "name": "python",
   "nbconvert_exporter": "python",
   "pygments_lexer": "ipython3",
   "version": "3.10.12"
  }
 },
 "nbformat": 4,
 "nbformat_minor": 5
}
