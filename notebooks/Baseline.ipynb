{
 "cells": [
  {
   "cell_type": "markdown",
   "id": "6a2dffe5-3166-4b65-af63-4acd898f64a3",
   "metadata": {},
   "source": [
    "# Train"
   ]
  },
  {
   "cell_type": "raw",
   "id": "b6ae2df9-b9b0-4d7c-90c3-cd30b87db3e1",
   "metadata": {},
   "source": [
    "!pip3 install PytorchWildlife"
   ]
  },
  {
   "cell_type": "code",
   "execution_count": 1,
   "id": "c27e9fb6-f65b-412a-bf71-d379361a3cd5",
   "metadata": {},
   "outputs": [],
   "source": [
    "import torch\n",
    "import torchvision"
   ]
  },
  {
   "cell_type": "code",
   "execution_count": 2,
   "id": "4930f987-6ad0-42fb-8037-f0f6e94b6f08",
   "metadata": {},
   "outputs": [
    {
     "name": "stdout",
     "output_type": "stream",
     "text": [
      "Device: cuda:0\n",
      "Devices count: 4\n"
     ]
    }
   ],
   "source": [
    "torch.cuda.empty_cache()\n",
    "#device = \"cpu\"\n",
    "device = \"cuda:0\" if torch.cuda.is_available() else \"cpu\"\n",
    "print(\"Device: \" + device)\n",
    "print(f\"Devices count: {torch.cuda.device_count()}\")"
   ]
  },
  {
   "cell_type": "code",
   "execution_count": 3,
   "id": "2478b79b-f521-4b68-a813-9858e9d8ba79",
   "metadata": {},
   "outputs": [],
   "source": [
    "import pandas\n",
    "import numpy\n",
    "import pickle"
   ]
  },
  {
   "cell_type": "code",
   "execution_count": 4,
   "id": "d756041a-4bf2-48a1-bc93-8f09ffc53aab",
   "metadata": {},
   "outputs": [],
   "source": [
    "from pathlib import Path"
   ]
  },
  {
   "cell_type": "code",
   "execution_count": 5,
   "id": "b23b32d5-db2f-4d00-ac7f-250b325e61d9",
   "metadata": {},
   "outputs": [],
   "source": [
    "from misc.data import DetectorDataset, detection_results_to_annotations"
   ]
  },
  {
   "cell_type": "code",
   "execution_count": 6,
   "id": "87974b8b-d07a-4264-88f2-85c02c112015",
   "metadata": {},
   "outputs": [],
   "source": [
    "from PytorchWildlife.models import detection as pw_detection\n",
    "from PytorchWildlife.models import classification as pw_classification\n",
    "from PytorchWildlife.data import transforms as pw_trans\n",
    "from PytorchWildlife import utils as pw_utils"
   ]
  },
  {
   "cell_type": "markdown",
   "id": "c9e9c9a2-dbe8-4742-94dd-267a9c581cad",
   "metadata": {},
   "source": [
    "## Data"
   ]
  },
  {
   "cell_type": "code",
   "execution_count": 7,
   "id": "b989c936-71c8-481b-bd8a-f60d2081d2bd",
   "metadata": {},
   "outputs": [],
   "source": [
    "data_path = Path(\"./data/train_data_minprirodi/\")\n",
    "images_path = data_path / \"images\"\n",
    "annotation_path = data_path / \"annotation.csv\""
   ]
  },
  {
   "cell_type": "code",
   "execution_count": 8,
   "id": "16415b23-90c1-4796-af94-250fb6145653",
   "metadata": {},
   "outputs": [
    {
     "data": {
      "text/html": [
       "<div>\n",
       "<style scoped>\n",
       "    .dataframe tbody tr th:only-of-type {\n",
       "        vertical-align: middle;\n",
       "    }\n",
       "\n",
       "    .dataframe tbody tr th {\n",
       "        vertical-align: top;\n",
       "    }\n",
       "\n",
       "    .dataframe thead th {\n",
       "        text-align: right;\n",
       "    }\n",
       "</style>\n",
       "<table border=\"1\" class=\"dataframe\">\n",
       "  <thead>\n",
       "    <tr style=\"text-align: right;\">\n",
       "      <th></th>\n",
       "      <th>Name</th>\n",
       "      <th>Bbox</th>\n",
       "      <th>Class</th>\n",
       "    </tr>\n",
       "  </thead>\n",
       "  <tbody>\n",
       "    <tr>\n",
       "      <th>0</th>\n",
       "      <td>1001958.jpg</td>\n",
       "      <td>0.7075520833333333,0.5319444444444444,0.282812...</td>\n",
       "      <td>1</td>\n",
       "    </tr>\n",
       "    <tr>\n",
       "      <th>1</th>\n",
       "      <td>1001958.jpg</td>\n",
       "      <td>0.09505208333333333,0.6305555555555555,0.19010...</td>\n",
       "      <td>0</td>\n",
       "    </tr>\n",
       "    <tr>\n",
       "      <th>2</th>\n",
       "      <td>1001958.jpg</td>\n",
       "      <td>0.031510416666666666,0.7434027777777777,0.0630...</td>\n",
       "      <td>0</td>\n",
       "    </tr>\n",
       "    <tr>\n",
       "      <th>3</th>\n",
       "      <td>1002155.jpg</td>\n",
       "      <td>0.8135416666666667,0.6976851851851852,0.371875...</td>\n",
       "      <td>0</td>\n",
       "    </tr>\n",
       "    <tr>\n",
       "      <th>4</th>\n",
       "      <td>1002155.jpg</td>\n",
       "      <td>0.3221354166666667,0.7939814814814815,0.477604...</td>\n",
       "      <td>0</td>\n",
       "    </tr>\n",
       "    <tr>\n",
       "      <th>...</th>\n",
       "      <td>...</td>\n",
       "      <td>...</td>\n",
       "      <td>...</td>\n",
       "    </tr>\n",
       "    <tr>\n",
       "      <th>1980</th>\n",
       "      <td>1997546.jpg</td>\n",
       "      <td>0.34661458333333334,0.490625,0.6015625,0.48958...</td>\n",
       "      <td>1</td>\n",
       "    </tr>\n",
       "    <tr>\n",
       "      <th>1981</th>\n",
       "      <td>1997602.jpg</td>\n",
       "      <td>0.7317708333333334,0.25601851851851853,0.30625...</td>\n",
       "      <td>0</td>\n",
       "    </tr>\n",
       "    <tr>\n",
       "      <th>1982</th>\n",
       "      <td>1999067.jpg</td>\n",
       "      <td>0.5630208333333333,0.5020833333333333,0.519791...</td>\n",
       "      <td>1</td>\n",
       "    </tr>\n",
       "    <tr>\n",
       "      <th>1983</th>\n",
       "      <td>1999067.jpg</td>\n",
       "      <td>0.9572916666666667,0.5881944444444445,0.085416...</td>\n",
       "      <td>0</td>\n",
       "    </tr>\n",
       "    <tr>\n",
       "      <th>1984</th>\n",
       "      <td>1999284.jpg</td>\n",
       "      <td>0.5125,0.4635416666666667,0.1875,0.61875</td>\n",
       "      <td>1</td>\n",
       "    </tr>\n",
       "  </tbody>\n",
       "</table>\n",
       "<p>1985 rows × 3 columns</p>\n",
       "</div>"
      ],
      "text/plain": [
       "             Name                                               Bbox  Class\n",
       "0     1001958.jpg  0.7075520833333333,0.5319444444444444,0.282812...      1\n",
       "1     1001958.jpg  0.09505208333333333,0.6305555555555555,0.19010...      0\n",
       "2     1001958.jpg  0.031510416666666666,0.7434027777777777,0.0630...      0\n",
       "3     1002155.jpg  0.8135416666666667,0.6976851851851852,0.371875...      0\n",
       "4     1002155.jpg  0.3221354166666667,0.7939814814814815,0.477604...      0\n",
       "...           ...                                                ...    ...\n",
       "1980  1997546.jpg  0.34661458333333334,0.490625,0.6015625,0.48958...      1\n",
       "1981  1997602.jpg  0.7317708333333334,0.25601851851851853,0.30625...      0\n",
       "1982  1999067.jpg  0.5630208333333333,0.5020833333333333,0.519791...      1\n",
       "1983  1999067.jpg  0.9572916666666667,0.5881944444444445,0.085416...      0\n",
       "1984  1999284.jpg           0.5125,0.4635416666666667,0.1875,0.61875      1\n",
       "\n",
       "[1985 rows x 3 columns]"
      ]
     },
     "execution_count": 8,
     "metadata": {},
     "output_type": "execute_result"
    }
   ],
   "source": [
    "annotation = pandas.read_csv(annotation_path)\n",
    "annotation"
   ]
  },
  {
   "cell_type": "code",
   "execution_count": 9,
   "id": "bab6e742-8447-4cc7-a4f4-df951943dfa0",
   "metadata": {},
   "outputs": [],
   "source": [
    "dataset = DetectorDataset(images_path, annotation)"
   ]
  },
  {
   "cell_type": "markdown",
   "id": "74a564ca-6984-4cbc-9109-bd97e5fb2027",
   "metadata": {},
   "source": [
    "## Model"
   ]
  },
  {
   "cell_type": "code",
   "execution_count": 10,
   "id": "18c82811-71c5-4ddf-985a-8da34209c416",
   "metadata": {},
   "outputs": [
    {
     "name": "stdout",
     "output_type": "stream",
     "text": [
      "Ultralytics 8.3.28 🚀 Python-3.10.13 torch-2.2.1 CUDA:0 (Tesla V100-PCIE-32GB, 32494MiB)\n",
      "YOLOv9c summary (fused): 384 layers, 25,321,561 parameters, 0 gradients, 102.3 GFLOPs\n"
     ]
    }
   ],
   "source": [
    "detection_model = pw_detection.MegaDetectorV6(device=device, pretrained=True)"
   ]
  },
  {
   "cell_type": "raw",
   "id": "9590ddf9-afc7-4f24-b0fb-67937692c144",
   "metadata": {},
   "source": [
    "detection_result = detection_model.single_image_detection(*dataset[0])\n",
    "\n",
    "pw_utils.save_detection_images(detection_result, data_path / \"result\", overwrite=False)"
   ]
  },
  {
   "cell_type": "raw",
   "id": "f2bf6dce-4e0f-4953-b652-4379d4e36f22",
   "metadata": {
    "scrolled": true
   },
   "source": [
    "results = detection_model.batch_image_detection(images_path)"
   ]
  },
  {
   "cell_type": "raw",
   "id": "1b4eb827-7ada-4f92-bc70-d89c33ac20be",
   "metadata": {},
   "source": [
    "with open(data_path / \"detection_results.dat\", 'wb') as file:\n",
    "    pickle.dump(results, file)"
   ]
  },
  {
   "cell_type": "code",
   "execution_count": 11,
   "id": "49289f75-9495-42fa-89b4-565a0438ef53",
   "metadata": {},
   "outputs": [],
   "source": [
    "with open(data_path / \"detection_results.dat\", 'rb') as file:\n",
    "    results = pickle.load(file)"
   ]
  },
  {
   "cell_type": "code",
   "execution_count": 12,
   "id": "6023a350-1599-42b2-b6f8-35f67ae97e58",
   "metadata": {},
   "outputs": [],
   "source": [
    "def baseline_classify(annotations_pred, confidence_treshold=0.86):\n",
    "    annotations_pred = annotations_pred.copy()\n",
    "    annotations_pred[\"Class\"] = (annotations_pred[\"label\"] == 0) & (annotations_pred[\"confidence\"] > confidence_treshold)\n",
    "\n",
    "    return annotations_pred"
   ]
  },
  {
   "cell_type": "code",
   "execution_count": 13,
   "id": "70d44cfc-99ab-4a27-81ff-ae40a03b3fd8",
   "metadata": {},
   "outputs": [],
   "source": [
    "annotations_pred = baseline_classify(detection_results_to_annotations(results))"
   ]
  },
  {
   "cell_type": "code",
   "execution_count": 14,
   "id": "e727b9a2-ebe2-4773-8b24-46145f7d69c0",
   "metadata": {},
   "outputs": [
    {
     "data": {
      "text/html": [
       "<div>\n",
       "<style scoped>\n",
       "    .dataframe tbody tr th:only-of-type {\n",
       "        vertical-align: middle;\n",
       "    }\n",
       "\n",
       "    .dataframe tbody tr th {\n",
       "        vertical-align: top;\n",
       "    }\n",
       "\n",
       "    .dataframe thead th {\n",
       "        text-align: right;\n",
       "    }\n",
       "</style>\n",
       "<table border=\"1\" class=\"dataframe\">\n",
       "  <thead>\n",
       "    <tr style=\"text-align: right;\">\n",
       "      <th></th>\n",
       "      <th>Name</th>\n",
       "      <th>Bbox</th>\n",
       "      <th>xyxy_normalized_coords</th>\n",
       "      <th>label</th>\n",
       "      <th>confidence</th>\n",
       "      <th>Class</th>\n",
       "    </tr>\n",
       "  </thead>\n",
       "  <tbody>\n",
       "    <tr>\n",
       "      <th>0</th>\n",
       "      <td>1001958-checkpoint.jpg</td>\n",
       "      <td>0.7119077682495117, 0.5377415974934896, 0.2591...</td>\n",
       "      <td>[0.5823110580444336, 0.38854726155598956, 0.84...</td>\n",
       "      <td>0</td>\n",
       "      <td>0.921416</td>\n",
       "      <td>True</td>\n",
       "    </tr>\n",
       "    <tr>\n",
       "      <th>1</th>\n",
       "      <td>1001958-checkpoint.jpg</td>\n",
       "      <td>0.09196978211402894, 0.6256720225016277, 0.183...</td>\n",
       "      <td>[5.556344985961914e-05, 0.4938507080078125, 0....</td>\n",
       "      <td>0</td>\n",
       "      <td>0.911797</td>\n",
       "      <td>True</td>\n",
       "    </tr>\n",
       "    <tr>\n",
       "      <th>2</th>\n",
       "      <td>1001958-checkpoint.jpg</td>\n",
       "      <td>0.35349483489990235, 0.8627684275309244, 0.246...</td>\n",
       "      <td>[0.23017826080322265, 0.7784647623697917, 0.47...</td>\n",
       "      <td>0</td>\n",
       "      <td>0.762183</td>\n",
       "      <td>False</td>\n",
       "    </tr>\n",
       "    <tr>\n",
       "      <th>3</th>\n",
       "      <td>1001958-checkpoint.jpg</td>\n",
       "      <td>0.027079170942306517, 0.7385032653808594, 0.05...</td>\n",
       "      <td>[0.0, 0.6669570922851562, 0.054158341884613034...</td>\n",
       "      <td>0</td>\n",
       "      <td>0.598208</td>\n",
       "      <td>False</td>\n",
       "    </tr>\n",
       "    <tr>\n",
       "      <th>4</th>\n",
       "      <td>1001958.jpg</td>\n",
       "      <td>0.7119077682495117, 0.5377415974934896, 0.2591...</td>\n",
       "      <td>[0.5823110580444336, 0.38854726155598956, 0.84...</td>\n",
       "      <td>0</td>\n",
       "      <td>0.921416</td>\n",
       "      <td>True</td>\n",
       "    </tr>\n",
       "    <tr>\n",
       "      <th>...</th>\n",
       "      <td>...</td>\n",
       "      <td>...</td>\n",
       "      <td>...</td>\n",
       "      <td>...</td>\n",
       "      <td>...</td>\n",
       "      <td>...</td>\n",
       "    </tr>\n",
       "    <tr>\n",
       "      <th>1980</th>\n",
       "      <td>1997546.jpg</td>\n",
       "      <td>0.3543984889984131, 0.49052821265326607, 0.590...</td>\n",
       "      <td>[0.05928945541381836, 0.2532713572184245, 0.64...</td>\n",
       "      <td>0</td>\n",
       "      <td>0.951897</td>\n",
       "      <td>True</td>\n",
       "    </tr>\n",
       "    <tr>\n",
       "      <th>1981</th>\n",
       "      <td>1997602.jpg</td>\n",
       "      <td>0.7356247901916504, 0.25372191535101996, 0.284...</td>\n",
       "      <td>[0.5932760238647461, 0.00031017727322048613, 0...</td>\n",
       "      <td>0</td>\n",
       "      <td>0.765240</td>\n",
       "      <td>False</td>\n",
       "    </tr>\n",
       "    <tr>\n",
       "      <th>1982</th>\n",
       "      <td>1999067.jpg</td>\n",
       "      <td>0.5605239550272624, 0.5130659951104057, 0.4935...</td>\n",
       "      <td>[0.31377201080322265, 0.2592296600341797, 0.80...</td>\n",
       "      <td>0</td>\n",
       "      <td>0.952601</td>\n",
       "      <td>True</td>\n",
       "    </tr>\n",
       "    <tr>\n",
       "      <th>1983</th>\n",
       "      <td>1999067.jpg</td>\n",
       "      <td>0.9620908737182617, 0.5899592929416233, 0.0755...</td>\n",
       "      <td>[0.924293327331543, 0.3298563639322917, 0.9998...</td>\n",
       "      <td>0</td>\n",
       "      <td>0.855032</td>\n",
       "      <td>False</td>\n",
       "    </tr>\n",
       "    <tr>\n",
       "      <th>1984</th>\n",
       "      <td>1999284.jpg</td>\n",
       "      <td>0.5122618675231934, 0.4641942765977648, 0.1909...</td>\n",
       "      <td>[0.41678581237792967, 0.15478439331054689, 0.6...</td>\n",
       "      <td>0</td>\n",
       "      <td>0.930686</td>\n",
       "      <td>True</td>\n",
       "    </tr>\n",
       "  </tbody>\n",
       "</table>\n",
       "<p>1985 rows × 6 columns</p>\n",
       "</div>"
      ],
      "text/plain": [
       "                        Name  \\\n",
       "0     1001958-checkpoint.jpg   \n",
       "1     1001958-checkpoint.jpg   \n",
       "2     1001958-checkpoint.jpg   \n",
       "3     1001958-checkpoint.jpg   \n",
       "4                1001958.jpg   \n",
       "...                      ...   \n",
       "1980             1997546.jpg   \n",
       "1981             1997602.jpg   \n",
       "1982             1999067.jpg   \n",
       "1983             1999067.jpg   \n",
       "1984             1999284.jpg   \n",
       "\n",
       "                                                   Bbox  \\\n",
       "0     0.7119077682495117, 0.5377415974934896, 0.2591...   \n",
       "1     0.09196978211402894, 0.6256720225016277, 0.183...   \n",
       "2     0.35349483489990235, 0.8627684275309244, 0.246...   \n",
       "3     0.027079170942306517, 0.7385032653808594, 0.05...   \n",
       "4     0.7119077682495117, 0.5377415974934896, 0.2591...   \n",
       "...                                                 ...   \n",
       "1980  0.3543984889984131, 0.49052821265326607, 0.590...   \n",
       "1981  0.7356247901916504, 0.25372191535101996, 0.284...   \n",
       "1982  0.5605239550272624, 0.5130659951104057, 0.4935...   \n",
       "1983  0.9620908737182617, 0.5899592929416233, 0.0755...   \n",
       "1984  0.5122618675231934, 0.4641942765977648, 0.1909...   \n",
       "\n",
       "                                 xyxy_normalized_coords  label  confidence  \\\n",
       "0     [0.5823110580444336, 0.38854726155598956, 0.84...      0    0.921416   \n",
       "1     [5.556344985961914e-05, 0.4938507080078125, 0....      0    0.911797   \n",
       "2     [0.23017826080322265, 0.7784647623697917, 0.47...      0    0.762183   \n",
       "3     [0.0, 0.6669570922851562, 0.054158341884613034...      0    0.598208   \n",
       "4     [0.5823110580444336, 0.38854726155598956, 0.84...      0    0.921416   \n",
       "...                                                 ...    ...         ...   \n",
       "1980  [0.05928945541381836, 0.2532713572184245, 0.64...      0    0.951897   \n",
       "1981  [0.5932760238647461, 0.00031017727322048613, 0...      0    0.765240   \n",
       "1982  [0.31377201080322265, 0.2592296600341797, 0.80...      0    0.952601   \n",
       "1983  [0.924293327331543, 0.3298563639322917, 0.9998...      0    0.855032   \n",
       "1984  [0.41678581237792967, 0.15478439331054689, 0.6...      0    0.930686   \n",
       "\n",
       "      Class  \n",
       "0      True  \n",
       "1      True  \n",
       "2     False  \n",
       "3     False  \n",
       "4      True  \n",
       "...     ...  \n",
       "1980   True  \n",
       "1981  False  \n",
       "1982   True  \n",
       "1983  False  \n",
       "1984   True  \n",
       "\n",
       "[1985 rows x 6 columns]"
      ]
     },
     "execution_count": 14,
     "metadata": {},
     "output_type": "execute_result"
    }
   ],
   "source": [
    "annotations_pred"
   ]
  },
  {
   "cell_type": "code",
   "execution_count": 15,
   "id": "25a3bbf4-ffdf-4bbe-b1cf-2572d9c158a7",
   "metadata": {},
   "outputs": [],
   "source": [
    "from misc.metrics import *"
   ]
  },
  {
   "cell_type": "code",
   "execution_count": 16,
   "id": "5050700f-be95-41b8-b0d8-f420f4b64242",
   "metadata": {},
   "outputs": [],
   "source": [
    "metric_value, metric_data = calculate_metric(annotation, annotations_pred)"
   ]
  },
  {
   "cell_type": "code",
   "execution_count": 17,
   "id": "b3955719-0ddb-4b0b-a394-bca733b9067c",
   "metadata": {},
   "outputs": [
    {
     "data": {
      "text/plain": [
       "0.43541560859996614"
      ]
     },
     "execution_count": 17,
     "metadata": {},
     "output_type": "execute_result"
    }
   ],
   "source": [
    "metric_value"
   ]
  },
  {
   "cell_type": "code",
   "execution_count": 18,
   "id": "be8a674c-89e2-4a8c-aad6-cdf254a4751e",
   "metadata": {},
   "outputs": [
    {
     "data": {
      "text/plain": [
       "8"
      ]
     },
     "execution_count": 18,
     "metadata": {},
     "output_type": "execute_result"
    }
   ],
   "source": [
    "(~metric_data[\"correct_Bbox\"] & metric_data[\"Class_true\"]).sum()"
   ]
  },
  {
   "cell_type": "code",
   "execution_count": null,
   "id": "73330e1d-0af6-4594-a0fb-1562c95095ab",
   "metadata": {},
   "outputs": [],
   "source": []
  }
 ],
 "metadata": {
  "kernelspec": {
   "display_name": "Python 3 (ipykernel)",
   "language": "python",
   "name": "python3"
  },
  "language_info": {
   "codemirror_mode": {
    "name": "ipython",
    "version": 3
   },
   "file_extension": ".py",
   "mimetype": "text/x-python",
   "name": "python",
   "nbconvert_exporter": "python",
   "pygments_lexer": "ipython3",
   "version": "3.10.13"
  }
 },
 "nbformat": 4,
 "nbformat_minor": 5
}
