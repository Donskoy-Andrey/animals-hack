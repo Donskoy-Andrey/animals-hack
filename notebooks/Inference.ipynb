{
 "cells": [
  {
   "cell_type": "markdown",
   "id": "6a2dffe5-3166-4b65-af63-4acd898f64a3",
   "metadata": {},
   "source": [
    "# Train"
   ]
  },
  {
   "cell_type": "code",
   "execution_count": 1,
   "id": "c27e9fb6-f65b-412a-bf71-d379361a3cd5",
   "metadata": {},
   "outputs": [],
   "source": [
    "import torch\n",
    "import torchvision"
   ]
  },
  {
   "cell_type": "code",
   "execution_count": 2,
   "id": "4930f987-6ad0-42fb-8037-f0f6e94b6f08",
   "metadata": {},
   "outputs": [
    {
     "name": "stdout",
     "output_type": "stream",
     "text": [
      "Device: cuda:0\n",
      "Devices count: 1\n"
     ]
    }
   ],
   "source": [
    "torch.cuda.empty_cache()\n",
    "#device = \"cpu\"\n",
    "device = \"cuda:0\" if torch.cuda.is_available() else \"cpu\"\n",
    "print(\"Device: \" + device)\n",
    "print(f\"Devices count: {torch.cuda.device_count()}\")"
   ]
  },
  {
   "cell_type": "code",
   "execution_count": 3,
   "id": "2478b79b-f521-4b68-a813-9858e9d8ba79",
   "metadata": {},
   "outputs": [],
   "source": [
    "import pandas\n",
    "import numpy\n",
    "import pickle"
   ]
  },
  {
   "cell_type": "code",
   "execution_count": 4,
   "id": "d756041a-4bf2-48a1-bc93-8f09ffc53aab",
   "metadata": {},
   "outputs": [],
   "source": [
    "from pathlib import Path"
   ]
  },
  {
   "cell_type": "code",
   "execution_count": 5,
   "id": "b23b32d5-db2f-4d00-ac7f-250b325e61d9",
   "metadata": {},
   "outputs": [],
   "source": [
    "from misc.data import DetectorDataset, SimpleClassifierDataset, SupplementaryDataset, concatenate_collate_fn, detection_results_to_annotations"
   ]
  },
  {
   "cell_type": "code",
   "execution_count": 6,
   "id": "87974b8b-d07a-4264-88f2-85c02c112015",
   "metadata": {},
   "outputs": [],
   "source": [
    "from PytorchWildlife.models import detection as pw_detection\n",
    "from PytorchWildlife.models import classification as pw_classification\n",
    "from PytorchWildlife.data import transforms as pw_trans\n",
    "from PytorchWildlife import utils as pw_utils"
   ]
  },
  {
   "cell_type": "code",
   "execution_count": 7,
   "id": "3e0de6c8-40ef-425a-9a51-d5274be0857e",
   "metadata": {},
   "outputs": [],
   "source": [
    "classifier_model_name = \"swin_v2_s\"\n",
    "classifier_weights_name = \"Swin_V2_S_Weights\"\n",
    "classifier_weights_subname = \"IMAGENET1K_V1\""
   ]
  },
  {
   "cell_type": "markdown",
   "id": "c9e9c9a2-dbe8-4742-94dd-267a9c581cad",
   "metadata": {},
   "source": [
    "## Data"
   ]
  },
  {
   "cell_type": "code",
   "execution_count": 8,
   "id": "b989c936-71c8-481b-bd8a-f60d2081d2bd",
   "metadata": {},
   "outputs": [],
   "source": [
    "data_path = Path(\"./data/train_data_minprirodi/\")\n",
    "images_path = data_path / \"images\"\n",
    "annotation_path = data_path / \"annotation.csv\""
   ]
  },
  {
   "cell_type": "code",
   "execution_count": 9,
   "id": "7563505c-8b5f-4827-add4-2329ebda4a0b",
   "metadata": {},
   "outputs": [],
   "source": [
    "model_path = data_path / f\"models/{classifier_weights_name}/{classifier_weights_subname}\""
   ]
  },
  {
   "cell_type": "code",
   "execution_count": 10,
   "id": "16415b23-90c1-4796-af94-250fb6145653",
   "metadata": {},
   "outputs": [
    {
     "data": {
      "text/html": [
       "<div>\n",
       "<style scoped>\n",
       "    .dataframe tbody tr th:only-of-type {\n",
       "        vertical-align: middle;\n",
       "    }\n",
       "\n",
       "    .dataframe tbody tr th {\n",
       "        vertical-align: top;\n",
       "    }\n",
       "\n",
       "    .dataframe thead th {\n",
       "        text-align: right;\n",
       "    }\n",
       "</style>\n",
       "<table border=\"1\" class=\"dataframe\">\n",
       "  <thead>\n",
       "    <tr style=\"text-align: right;\">\n",
       "      <th></th>\n",
       "      <th>Name</th>\n",
       "      <th>Bbox</th>\n",
       "      <th>Class</th>\n",
       "    </tr>\n",
       "  </thead>\n",
       "  <tbody>\n",
       "    <tr>\n",
       "      <th>0</th>\n",
       "      <td>1001958.jpg</td>\n",
       "      <td>0.7075520833333333,0.5319444444444444,0.282812...</td>\n",
       "      <td>1</td>\n",
       "    </tr>\n",
       "    <tr>\n",
       "      <th>1</th>\n",
       "      <td>1001958.jpg</td>\n",
       "      <td>0.09505208333333333,0.6305555555555555,0.19010...</td>\n",
       "      <td>0</td>\n",
       "    </tr>\n",
       "    <tr>\n",
       "      <th>2</th>\n",
       "      <td>1001958.jpg</td>\n",
       "      <td>0.031510416666666666,0.7434027777777777,0.0630...</td>\n",
       "      <td>0</td>\n",
       "    </tr>\n",
       "    <tr>\n",
       "      <th>3</th>\n",
       "      <td>1002155.jpg</td>\n",
       "      <td>0.8135416666666667,0.6976851851851852,0.371875...</td>\n",
       "      <td>0</td>\n",
       "    </tr>\n",
       "    <tr>\n",
       "      <th>4</th>\n",
       "      <td>1002155.jpg</td>\n",
       "      <td>0.3221354166666667,0.7939814814814815,0.477604...</td>\n",
       "      <td>0</td>\n",
       "    </tr>\n",
       "    <tr>\n",
       "      <th>...</th>\n",
       "      <td>...</td>\n",
       "      <td>...</td>\n",
       "      <td>...</td>\n",
       "    </tr>\n",
       "    <tr>\n",
       "      <th>1980</th>\n",
       "      <td>1997546.jpg</td>\n",
       "      <td>0.34661458333333334,0.490625,0.6015625,0.48958...</td>\n",
       "      <td>1</td>\n",
       "    </tr>\n",
       "    <tr>\n",
       "      <th>1981</th>\n",
       "      <td>1997602.jpg</td>\n",
       "      <td>0.7317708333333334,0.25601851851851853,0.30625...</td>\n",
       "      <td>0</td>\n",
       "    </tr>\n",
       "    <tr>\n",
       "      <th>1982</th>\n",
       "      <td>1999067.jpg</td>\n",
       "      <td>0.5630208333333333,0.5020833333333333,0.519791...</td>\n",
       "      <td>1</td>\n",
       "    </tr>\n",
       "    <tr>\n",
       "      <th>1983</th>\n",
       "      <td>1999067.jpg</td>\n",
       "      <td>0.9572916666666667,0.5881944444444445,0.085416...</td>\n",
       "      <td>0</td>\n",
       "    </tr>\n",
       "    <tr>\n",
       "      <th>1984</th>\n",
       "      <td>1999284.jpg</td>\n",
       "      <td>0.5125,0.4635416666666667,0.1875,0.61875</td>\n",
       "      <td>1</td>\n",
       "    </tr>\n",
       "  </tbody>\n",
       "</table>\n",
       "<p>1985 rows × 3 columns</p>\n",
       "</div>"
      ],
      "text/plain": [
       "             Name                                               Bbox  Class\n",
       "0     1001958.jpg  0.7075520833333333,0.5319444444444444,0.282812...      1\n",
       "1     1001958.jpg  0.09505208333333333,0.6305555555555555,0.19010...      0\n",
       "2     1001958.jpg  0.031510416666666666,0.7434027777777777,0.0630...      0\n",
       "3     1002155.jpg  0.8135416666666667,0.6976851851851852,0.371875...      0\n",
       "4     1002155.jpg  0.3221354166666667,0.7939814814814815,0.477604...      0\n",
       "...           ...                                                ...    ...\n",
       "1980  1997546.jpg  0.34661458333333334,0.490625,0.6015625,0.48958...      1\n",
       "1981  1997602.jpg  0.7317708333333334,0.25601851851851853,0.30625...      0\n",
       "1982  1999067.jpg  0.5630208333333333,0.5020833333333333,0.519791...      1\n",
       "1983  1999067.jpg  0.9572916666666667,0.5881944444444445,0.085416...      0\n",
       "1984  1999284.jpg           0.5125,0.4635416666666667,0.1875,0.61875      1\n",
       "\n",
       "[1985 rows x 3 columns]"
      ]
     },
     "execution_count": 10,
     "metadata": {},
     "output_type": "execute_result"
    }
   ],
   "source": [
    "annotation = pandas.read_csv(annotation_path)\n",
    "annotation"
   ]
  },
  {
   "cell_type": "code",
   "execution_count": 11,
   "id": "bab6e742-8447-4cc7-a4f4-df951943dfa0",
   "metadata": {},
   "outputs": [],
   "source": [
    "dataset = DetectorDataset(images_path, annotation)"
   ]
  },
  {
   "cell_type": "code",
   "execution_count": 12,
   "id": "864a4df5-bf6e-4dfe-95c1-a742f133ae80",
   "metadata": {},
   "outputs": [],
   "source": [
    "from sklearn.model_selection import train_test_split\n",
    "\n",
    "unique_names = annotation[\"Name\"].unique()\n",
    "train_names, test_names = train_test_split(unique_names, test_size=0.2, random_state=42)"
   ]
  },
  {
   "cell_type": "markdown",
   "id": "74a564ca-6984-4cbc-9109-bd97e5fb2027",
   "metadata": {},
   "source": [
    "## Model"
   ]
  },
  {
   "cell_type": "code",
   "execution_count": 13,
   "id": "18c82811-71c5-4ddf-985a-8da34209c416",
   "metadata": {},
   "outputs": [
    {
     "name": "stdout",
     "output_type": "stream",
     "text": [
      "Ultralytics 8.3.28 🚀 Python-3.10.12 torch-2.5.1+cu124 CUDA:0 (Tesla V100-SXM3-32GB, 32494MiB)\n",
      "YOLOv9c summary (fused): 384 layers, 25,321,561 parameters, 0 gradients, 102.3 GFLOPs\n"
     ]
    }
   ],
   "source": [
    "detection_model = pw_detection.MegaDetectorV6(device=device, pretrained=True)"
   ]
  },
  {
   "cell_type": "markdown",
   "id": "3f2a1aa6-297f-4bb9-b053-a6859a696094",
   "metadata": {
    "scrolled": true
   },
   "source": [
    "results = detection_model.batch_image_detection(images_path)"
   ]
  },
  {
   "cell_type": "markdown",
   "id": "05838235-1f72-414c-991d-e7a461dc2646",
   "metadata": {},
   "source": [
    "with open(data_path / \"detection_results.dat\", 'wb') as file:\n",
    "    pickle.dump(results, file)"
   ]
  },
  {
   "cell_type": "code",
   "execution_count": 14,
   "id": "30a555cf-0457-4aeb-9ee9-dbe4b26cbc59",
   "metadata": {},
   "outputs": [],
   "source": [
    "with open(data_path / \"detection_results.dat\", 'rb') as file:\n",
    "    results = pickle.load(file)"
   ]
  },
  {
   "cell_type": "code",
   "execution_count": 15,
   "id": "70d44cfc-99ab-4a27-81ff-ae40a03b3fd8",
   "metadata": {},
   "outputs": [],
   "source": [
    "annotations_pred = detection_results_to_annotations(results)"
   ]
  },
  {
   "cell_type": "code",
   "execution_count": 16,
   "id": "e727b9a2-ebe2-4773-8b24-46145f7d69c0",
   "metadata": {},
   "outputs": [
    {
     "data": {
      "text/html": [
       "<div>\n",
       "<style scoped>\n",
       "    .dataframe tbody tr th:only-of-type {\n",
       "        vertical-align: middle;\n",
       "    }\n",
       "\n",
       "    .dataframe tbody tr th {\n",
       "        vertical-align: top;\n",
       "    }\n",
       "\n",
       "    .dataframe thead th {\n",
       "        text-align: right;\n",
       "    }\n",
       "</style>\n",
       "<table border=\"1\" class=\"dataframe\">\n",
       "  <thead>\n",
       "    <tr style=\"text-align: right;\">\n",
       "      <th></th>\n",
       "      <th>Name</th>\n",
       "      <th>Bbox</th>\n",
       "      <th>xyxy_normalized_coords</th>\n",
       "      <th>label</th>\n",
       "      <th>confidence</th>\n",
       "    </tr>\n",
       "  </thead>\n",
       "  <tbody>\n",
       "    <tr>\n",
       "      <th>0</th>\n",
       "      <td>1001958.jpg</td>\n",
       "      <td>0.7119067311286926, 0.5377235412597656, 0.2593...</td>\n",
       "      <td>[0.58222866, 0.3885526, 0.8415848, 0.6868945]</td>\n",
       "      <td>0</td>\n",
       "      <td>0.921108</td>\n",
       "    </tr>\n",
       "    <tr>\n",
       "      <th>1</th>\n",
       "      <td>1001958.jpg</td>\n",
       "      <td>0.0919116884469986, 0.6257917284965515, 0.1838...</td>\n",
       "      <td>[0.0, 0.49359453, 0.18382338, 0.7579889]</td>\n",
       "      <td>0</td>\n",
       "      <td>0.915630</td>\n",
       "    </tr>\n",
       "    <tr>\n",
       "      <th>2</th>\n",
       "      <td>1001958.jpg</td>\n",
       "      <td>0.3535197675228119, 0.8627723455429077, 0.2466...</td>\n",
       "      <td>[0.23018798, 0.7784824, 0.47685155, 0.9470624]</td>\n",
       "      <td>0</td>\n",
       "      <td>0.765915</td>\n",
       "    </tr>\n",
       "    <tr>\n",
       "      <th>3</th>\n",
       "      <td>1001958.jpg</td>\n",
       "      <td>0.0270781759172678, 0.7385634183883667, 0.0541...</td>\n",
       "      <td>[0.0, 0.6670405, 0.05415635, 0.8100863]</td>\n",
       "      <td>0</td>\n",
       "      <td>0.599017</td>\n",
       "    </tr>\n",
       "    <tr>\n",
       "      <th>4</th>\n",
       "      <td>1002155.jpg</td>\n",
       "      <td>0.8208271265029907, 0.7090132236480713, 0.3577...</td>\n",
       "      <td>[0.6419688, 0.42098355, 0.9996855, 0.99704283]</td>\n",
       "      <td>0</td>\n",
       "      <td>0.941775</td>\n",
       "    </tr>\n",
       "    <tr>\n",
       "      <th>...</th>\n",
       "      <td>...</td>\n",
       "      <td>...</td>\n",
       "      <td>...</td>\n",
       "      <td>...</td>\n",
       "      <td>...</td>\n",
       "    </tr>\n",
       "    <tr>\n",
       "      <th>1976</th>\n",
       "      <td>1997546.jpg</td>\n",
       "      <td>0.354478120803833, 0.4903988838195801, 0.59009...</td>\n",
       "      <td>[0.059431933, 0.2530929, 0.64952433, 0.7277049]</td>\n",
       "      <td>0</td>\n",
       "      <td>0.952174</td>\n",
       "    </tr>\n",
       "    <tr>\n",
       "      <th>1977</th>\n",
       "      <td>1997602.jpg</td>\n",
       "      <td>0.7356047630310059, 0.2534518837928772, 0.2846...</td>\n",
       "      <td>[0.59326077, 0.00030263266, 0.87794876, 0.5066...</td>\n",
       "      <td>0</td>\n",
       "      <td>0.767034</td>\n",
       "    </tr>\n",
       "    <tr>\n",
       "      <th>1978</th>\n",
       "      <td>1999067.jpg</td>\n",
       "      <td>0.5610121488571167, 0.512933075428009, 0.49320...</td>\n",
       "      <td>[0.31441194, 0.25900587, 0.8076124, 0.7668603]</td>\n",
       "      <td>0</td>\n",
       "      <td>0.945998</td>\n",
       "    </tr>\n",
       "    <tr>\n",
       "      <th>1979</th>\n",
       "      <td>1999067.jpg</td>\n",
       "      <td>0.961925745010376, 0.5905055999755859, 0.07592...</td>\n",
       "      <td>[0.9239653, 0.32892227, 0.99988616, 0.8520889]</td>\n",
       "      <td>0</td>\n",
       "      <td>0.849700</td>\n",
       "    </tr>\n",
       "    <tr>\n",
       "      <th>1980</th>\n",
       "      <td>1999284.jpg</td>\n",
       "      <td>0.512424647808075, 0.46503913402557373, 0.1912...</td>\n",
       "      <td>[0.4168046, 0.1555624, 0.6080447, 0.77451587]</td>\n",
       "      <td>0</td>\n",
       "      <td>0.938460</td>\n",
       "    </tr>\n",
       "  </tbody>\n",
       "</table>\n",
       "<p>1981 rows × 5 columns</p>\n",
       "</div>"
      ],
      "text/plain": [
       "             Name                                               Bbox  \\\n",
       "0     1001958.jpg  0.7119067311286926, 0.5377235412597656, 0.2593...   \n",
       "1     1001958.jpg  0.0919116884469986, 0.6257917284965515, 0.1838...   \n",
       "2     1001958.jpg  0.3535197675228119, 0.8627723455429077, 0.2466...   \n",
       "3     1001958.jpg  0.0270781759172678, 0.7385634183883667, 0.0541...   \n",
       "4     1002155.jpg  0.8208271265029907, 0.7090132236480713, 0.3577...   \n",
       "...           ...                                                ...   \n",
       "1976  1997546.jpg  0.354478120803833, 0.4903988838195801, 0.59009...   \n",
       "1977  1997602.jpg  0.7356047630310059, 0.2534518837928772, 0.2846...   \n",
       "1978  1999067.jpg  0.5610121488571167, 0.512933075428009, 0.49320...   \n",
       "1979  1999067.jpg  0.961925745010376, 0.5905055999755859, 0.07592...   \n",
       "1980  1999284.jpg  0.512424647808075, 0.46503913402557373, 0.1912...   \n",
       "\n",
       "                                 xyxy_normalized_coords  label  confidence  \n",
       "0         [0.58222866, 0.3885526, 0.8415848, 0.6868945]      0    0.921108  \n",
       "1              [0.0, 0.49359453, 0.18382338, 0.7579889]      0    0.915630  \n",
       "2        [0.23018798, 0.7784824, 0.47685155, 0.9470624]      0    0.765915  \n",
       "3               [0.0, 0.6670405, 0.05415635, 0.8100863]      0    0.599017  \n",
       "4        [0.6419688, 0.42098355, 0.9996855, 0.99704283]      0    0.941775  \n",
       "...                                                 ...    ...         ...  \n",
       "1976    [0.059431933, 0.2530929, 0.64952433, 0.7277049]      0    0.952174  \n",
       "1977  [0.59326077, 0.00030263266, 0.87794876, 0.5066...      0    0.767034  \n",
       "1978     [0.31441194, 0.25900587, 0.8076124, 0.7668603]      0    0.945998  \n",
       "1979     [0.9239653, 0.32892227, 0.99988616, 0.8520889]      0    0.849700  \n",
       "1980      [0.4168046, 0.1555624, 0.6080447, 0.77451587]      0    0.938460  \n",
       "\n",
       "[1981 rows x 5 columns]"
      ]
     },
     "execution_count": 16,
     "metadata": {},
     "output_type": "execute_result"
    }
   ],
   "source": [
    "annotations_pred"
   ]
  },
  {
   "cell_type": "code",
   "execution_count": 17,
   "id": "f4b4fe80-bbf6-419f-ac2f-394094a2ce00",
   "metadata": {},
   "outputs": [],
   "source": [
    "annotations_pred.to_csv(data_path / \"annotations_pred.csv\", index=False)"
   ]
  },
  {
   "cell_type": "code",
   "execution_count": 18,
   "id": "82a0f303-f442-464a-beb3-6e880fc88838",
   "metadata": {},
   "outputs": [],
   "source": [
    "#annotations_pred[\"Class\"] = numpy.zeros(len(annotations_pred))\n",
    "annotations_pred[\"Class\"] = annotation[\"Class\"]"
   ]
  },
  {
   "cell_type": "code",
   "execution_count": 19,
   "id": "346e0a27-9bb5-4258-8862-f58346e31125",
   "metadata": {},
   "outputs": [],
   "source": [
    "dataset = SimpleClassifierDataset(\n",
    "    images_path,\n",
    "    annotations_pred,\n",
    "    torchvision.transforms.Resize((232, 232), interpolation=torchvision.transforms.InterpolationMode.BICUBIC),\n",
    ")"
   ]
  },
  {
   "cell_type": "code",
   "execution_count": 20,
   "id": "500dd17b-291b-4c47-90b3-afd573f555a4",
   "metadata": {},
   "outputs": [],
   "source": [
    "train_annotation = annotations_pred[annotations_pred[\"Name\"].isin(train_names)].reset_index(drop=True)\n",
    "test_annotation  = annotations_pred[annotations_pred[\"Name\"].isin(test_names)].reset_index(drop=True)"
   ]
  },
  {
   "cell_type": "code",
   "execution_count": 21,
   "id": "75d0192a-fb56-423f-b7cd-44a47b46faf8",
   "metadata": {},
   "outputs": [],
   "source": [
    "train_dataset = SimpleClassifierDataset(images_path, train_annotation, dataset.transform)\n",
    "test_dataset  = SimpleClassifierDataset(images_path, test_annotation, dataset.transform)"
   ]
  },
  {
   "cell_type": "code",
   "execution_count": 22,
   "id": "3ee21908-aae9-4347-9f09-a1a51ed56290",
   "metadata": {},
   "outputs": [],
   "source": [
    "train_batch_size = 24\n",
    "test_batch_size  = 128"
   ]
  },
  {
   "cell_type": "code",
   "execution_count": 23,
   "id": "6ef0ded5-d1ec-478c-b2e0-0440274e5623",
   "metadata": {},
   "outputs": [],
   "source": [
    "train_dataloader = torch.utils.data.DataLoader(train_dataset, batch_size=train_batch_size, shuffle=True)\n",
    "test_dataloader  = torch.utils.data.DataLoader(test_dataset,  batch_size=test_batch_size,  shuffle=False)"
   ]
  },
  {
   "cell_type": "code",
   "execution_count": 24,
   "id": "86a6843e-5424-44f3-ac97-b507ee7c7cde",
   "metadata": {},
   "outputs": [],
   "source": [
    "model = torch.load(model_path / \"e17_0.93.pt\")"
   ]
  },
  {
   "cell_type": "code",
   "execution_count": 25,
   "id": "c8b80348-f1d9-463d-9be3-0844b1c7e837",
   "metadata": {},
   "outputs": [
    {
     "name": "stderr",
     "output_type": "stream",
     "text": [
      "100%|███████████████████████████████████████████████████████████████████████████████████████████████████████████████████████████████████████████████████████████| 4/4 [00:29<00:00,  7.32s/it]\n"
     ]
    }
   ],
   "source": [
    "_, y_pred = model.predict(test_dataloader, device)"
   ]
  },
  {
   "cell_type": "code",
   "execution_count": 26,
   "id": "e99e38ba-dbee-4454-908e-bfdbc4c93ee0",
   "metadata": {},
   "outputs": [],
   "source": [
    "test_annotations_pred = test_dataset.annotation.copy()\n",
    "test_annotations_pred[\"Class\"] = numpy.exp(y_pred[:,1]) > 0.7"
   ]
  },
  {
   "cell_type": "code",
   "execution_count": 27,
   "id": "25a3bbf4-ffdf-4bbe-b1cf-2572d9c158a7",
   "metadata": {},
   "outputs": [],
   "source": [
    "from misc.metrics import *"
   ]
  },
  {
   "cell_type": "code",
   "execution_count": 28,
   "id": "5050700f-be95-41b8-b0d8-f420f4b64242",
   "metadata": {},
   "outputs": [],
   "source": [
    "metric_value, metric_data = calculate_metric(annotation[annotation[\"Name\"].isin(test_names)].reset_index(drop=True).copy(), test_annotations_pred)"
   ]
  },
  {
   "cell_type": "code",
   "execution_count": 29,
   "id": "b3955719-0ddb-4b0b-a394-bca733b9067c",
   "metadata": {},
   "outputs": [
    {
     "data": {
      "text/plain": [
       "np.float64(0.8469809760132341)"
      ]
     },
     "execution_count": 29,
     "metadata": {},
     "output_type": "execute_result"
    }
   ],
   "source": [
    "metric_value"
   ]
  },
  {
   "cell_type": "code",
   "execution_count": 30,
   "id": "6bdbd35e-a69e-4b7c-bde1-06839b4a9db4",
   "metadata": {},
   "outputs": [
    {
     "data": {
      "text/plain": [
       "0      0.11784205585718155, 0.49985140562057495, 0.23...\n",
       "1      0.48835498094558716, 0.5186216831207275, 0.403...\n",
       "2      0.2436753213405609, 0.5376400947570801, 0.3343...\n",
       "3      0.39207592606544495, 0.6405500769615173, 0.443...\n",
       "4      0.3681947886943817, 0.7512457370758057, 0.3220...\n",
       "                             ...                        \n",
       "398    0.902854323387146, 0.6882379651069641, 0.18693...\n",
       "399    0.7073821425437927, 0.6112831234931946, 0.2363...\n",
       "400    0.28912046551704407, 0.5781852602958679, 0.244...\n",
       "401    0.5738311409950256, 0.4737164080142975, 0.2051...\n",
       "402    0.3902233839035034, 0.8498777151107788, 0.3204...\n",
       "Name: Bbox_pred, Length: 403, dtype: object"
      ]
     },
     "execution_count": 30,
     "metadata": {},
     "output_type": "execute_result"
    }
   ],
   "source": [
    "metric_data[\"Bbox_pred\"]"
   ]
  },
  {
   "cell_type": "code",
   "execution_count": 31,
   "id": "987bb195-9e88-4aef-bf3f-b43a634386f9",
   "metadata": {},
   "outputs": [
    {
     "data": {
      "text/plain": [
       "0      0.121875,0.4996527777777778,0.24375,0.39930555...\n",
       "1      0.48854166666666665,0.51484375,0.4114583333333...\n",
       "2      0.24296875,0.5392361111111111,0.3578125,0.4729...\n",
       "3      0.390625,0.6425925925925926,0.446875,0.5444444...\n",
       "4      0.36770833333333336,0.7393518518518518,0.36458...\n",
       "                             ...                        \n",
       "398    0.8979166666666667,0.6885416666666667,0.197916...\n",
       "399    0.7057291666666666,0.6159722222222223,0.255208...\n",
       "400    0.19739583333333333,0.5857638888888889,0.0875,...\n",
       "401    0.5729166666666666,0.471875,0.209375,0.5493055...\n",
       "402    0.3859375,0.8388888888888889,0.35,0.3185185185...\n",
       "Name: Bbox_true, Length: 403, dtype: object"
      ]
     },
     "execution_count": 31,
     "metadata": {},
     "output_type": "execute_result"
    }
   ],
   "source": [
    "metric_data[\"Bbox_true\"]"
   ]
  },
  {
   "cell_type": "code",
   "execution_count": 32,
   "id": "be8a674c-89e2-4a8c-aad6-cdf254a4751e",
   "metadata": {},
   "outputs": [
    {
     "data": {
      "text/plain": [
       "np.int64(15)"
      ]
     },
     "execution_count": 32,
     "metadata": {},
     "output_type": "execute_result"
    }
   ],
   "source": [
    "(~metric_data[\"correct_Bbox\"]).sum()"
   ]
  },
  {
   "cell_type": "code",
   "execution_count": 33,
   "id": "73330e1d-0af6-4594-a0fb-1562c95095ab",
   "metadata": {},
   "outputs": [
    {
     "data": {
      "text/plain": [
       "np.int64(2)"
      ]
     },
     "execution_count": 33,
     "metadata": {},
     "output_type": "execute_result"
    }
   ],
   "source": [
    "(~metric_data[\"correct_Bbox\"] & metric_data[\"Class_true\"]).sum()"
   ]
  },
  {
   "cell_type": "code",
   "execution_count": null,
   "id": "5e0b895b-c729-423b-812f-02a594ab9d82",
   "metadata": {},
   "outputs": [],
   "source": []
  }
 ],
 "metadata": {
  "kernelspec": {
   "display_name": "Python 3 (ipykernel)",
   "language": "python",
   "name": "python3"
  },
  "language_info": {
   "codemirror_mode": {
    "name": "ipython",
    "version": 3
   },
   "file_extension": ".py",
   "mimetype": "text/x-python",
   "name": "python",
   "nbconvert_exporter": "python",
   "pygments_lexer": "ipython3",
   "version": "3.10.12"
  }
 },
 "nbformat": 4,
 "nbformat_minor": 5
}
